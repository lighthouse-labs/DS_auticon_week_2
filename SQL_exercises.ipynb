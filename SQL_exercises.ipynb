{
 "cells": [
  {
   "cell_type": "markdown",
   "metadata": {},
   "source": [
    "## We will be working with database chinook.db\n",
    "You can download it here: https://drive.google.com/file/d/0Bz9_0VdXvv9bWUtqM0NBYzhKZ3c/view?usp=sharing\n",
    "\n",
    "The\tChinook\tDatabase is\tabout an imaginary video and music store. Each track is\tstored using one of\tthe digital formats and\thas\ta genre. The store has also\tsome playlists,\twhere a single track can be\tpart of several\tplaylists. Orders are recorded\tfor\tcustomers, but are called invoices. Every customer is assigned a support employee, and Employees report to other employees."
   ]
  },
  {
   "cell_type": "markdown",
   "metadata": {},
   "source": [
    "### How to connect Python to database\n",
    "In the begining of this exercise we are going to show we can work with the databases inside the Python. We will connect this notebook to the `chinook.db` file we have downloaded earlier."
   ]
  },
  {
   "cell_type": "markdown",
   "metadata": {},
   "source": [
    "<img src=\"chinook.jpeg\" alt=\"Drawing\" style=\"width: 600px;\"/>"
   ]
  },
  {
   "cell_type": "code",
   "execution_count": 7,
   "metadata": {},
   "outputs": [],
   "source": [
    "import sqlite3\n",
    "conn = sqlite3.connect(\"chinook.db\") # the chinook file has to be in the same directory as our notebook"
   ]
  },
  {
   "cell_type": "code",
   "execution_count": 8,
   "metadata": {},
   "outputs": [
    {
     "name": "stdout",
     "output_type": "stream",
     "text": [
      "[(1, 'AC/DC'), (2, 'Accept'), (3, 'Aerosmith'), (4, 'Alanis Morissette'), (5, 'Alice In Chains')]\n"
     ]
    }
   ],
   "source": [
    "cur = conn.cursor()\n",
    "cur.execute(\"select * from artists limit 5;\")\n",
    "results = cur.fetchall()\n",
    "print(results)"
   ]
  },
  {
   "cell_type": "markdown",
   "metadata": {},
   "source": [
    "- each row is represented as 1 item in the list\n",
    "- each row consists of tuple with number of items equal to number of columns in the table `artists`"
   ]
  },
  {
   "cell_type": "code",
   "execution_count": 9,
   "metadata": {},
   "outputs": [],
   "source": [
    "# Before we move on, it’s good practice to close Connection objects and Cursor objects that are open. \n",
    "# This prevents the SQLite database from being locked.\n",
    "cur.close()\n",
    "conn.close()"
   ]
  },
  {
   "cell_type": "markdown",
   "metadata": {},
   "source": [
    "Now, we can solve simple challenges below. Feel free to use **SQLWorkbench**, the tool we connected to `chinook.db` database during the tutorial in the morning, for building the queries as well."
   ]
  },
  {
   "cell_type": "markdown",
   "metadata": {},
   "source": [
    "### Which\tartists\tdid\tnot\tmake\tany\talbums\tat\tall?\tInclude\ttheir\tnames\tin your\tanswer."
   ]
  },
  {
   "cell_type": "code",
   "execution_count": null,
   "metadata": {},
   "outputs": [],
   "source": []
  },
  {
   "cell_type": "markdown",
   "metadata": {},
   "source": [
    "### Which\tartists\trecorded\tany\ttracks\tof\tthe\tLatin\tgenre?"
   ]
  },
  {
   "cell_type": "code",
   "execution_count": null,
   "metadata": {},
   "outputs": [],
   "source": []
  },
  {
   "cell_type": "markdown",
   "metadata": {},
   "source": [
    "### Which\tvideo track\thas\tthe\tlongest\tlength?"
   ]
  },
  {
   "cell_type": "code",
   "execution_count": null,
   "metadata": {},
   "outputs": [],
   "source": []
  },
  {
   "cell_type": "markdown",
   "metadata": {},
   "source": [
    "### Find\tthe\tnames\tof\tcustomers\twho\tlive\tin\tthe\tsame\tcity\tas\tthe\ttop\temployee\t(The\tone\tnot\tmanaged\tby\tanyone)."
   ]
  },
  {
   "cell_type": "code",
   "execution_count": null,
   "metadata": {},
   "outputs": [],
   "source": []
  },
  {
   "cell_type": "markdown",
   "metadata": {},
   "source": [
    "### Find\tthe\tmanagers of\temployees\tsupporting\tBrazilian\tcustomers."
   ]
  },
  {
   "cell_type": "code",
   "execution_count": null,
   "metadata": {},
   "outputs": [],
   "source": []
  },
  {
   "cell_type": "markdown",
   "metadata": {},
   "source": [
    "### Which\tplaylists\thave\tno\tLatin\ttracks?"
   ]
  },
  {
   "cell_type": "code",
   "execution_count": null,
   "metadata": {},
   "outputs": [],
   "source": []
  }
 ],
 "metadata": {
  "kernelspec": {
   "display_name": "Python 3",
   "language": "python",
   "name": "python3"
  },
  "language_info": {
   "codemirror_mode": {
    "name": "ipython",
    "version": 3
   },
   "file_extension": ".py",
   "mimetype": "text/x-python",
   "name": "python",
   "nbconvert_exporter": "python",
   "pygments_lexer": "ipython3",
   "version": "3.7.6"
  }
 },
 "nbformat": 4,
 "nbformat_minor": 4
}
