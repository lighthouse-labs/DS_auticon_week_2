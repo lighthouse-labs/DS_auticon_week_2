{
 "cells": [
  {
   "cell_type": "markdown",
   "metadata": {},
   "source": [
    "# Project I\n",
    "### Wrangling the API data\n",
    "\n",
    "The point of this exercise is to try data enrichment with data from external APIs. We are going to take data about car crashes in Monroe County, Indiana from 2003 to 2015 and try to figure out the weather during the accident and how many bars there are in the area. We will work with two different APIs during this challenge:\n",
    "\n",
    "- Foursquare API\n",
    "- Visual Crossing API\n",
    "\n",
    "We will try to find correlations between the severity of crash and weather/number of bars in the area. To indicate the severity of a crash, we will use column `Injury Type`."
   ]
  },
  {
   "cell_type": "markdown",
   "metadata": {},
   "source": [
    "## Data\n",
    "\n",
    "The data for this exercise can be found [here](https://drive.google.com/file/d/1_KF9oIJV8cB8i3ngA4JPOLWIE_ETE6CJ/view?usp=sharing).\n",
    "\n",
    "Just run the cells below to get your data ready. Little help from us.\n"
   ]
  },
  {
   "cell_type": "code",
   "execution_count": 19,
   "metadata": {},
   "outputs": [],
   "source": [
    "import pandas as pd\n",
    "import os\n",
    "pd.set_option(\"display.max_columns\", None)"
   ]
  },
  {
   "cell_type": "markdown",
   "metadata": {},
   "source": [
    "### Data Preparation\n",
    "\n",
    "Tasks:\n",
    "- load the data in Pandas DataFrame\n",
    "- drop the columns where latitude or longitude is missing\n",
    "- drop the columns where latitude and longitude are 0.0\n",
    "- create column `ll` that contains concatenated strings of latitude and longitude"
   ]
  },
  {
   "cell_type": "code",
   "execution_count": null,
   "metadata": {},
   "outputs": [],
   "source": []
  },
  {
   "cell_type": "code",
   "execution_count": null,
   "metadata": {},
   "outputs": [],
   "source": []
  },
  {
   "cell_type": "code",
   "execution_count": null,
   "metadata": {},
   "outputs": [],
   "source": []
  },
  {
   "cell_type": "markdown",
   "metadata": {},
   "source": [
    "# Foursquare API\n",
    "\n",
    "Foursquare API documentation is [here](https://developer.foursquare.com/)\n",
    "\n",
    "1. Start a foursquare application and get your keys.\n",
    "2. For each crash, create the function **get_venues** that will pull bars in the radius of 5km around the crash\n",
    "\n",
    "#### example\n",
    "`get_venues('48.146394, 17.107969')`\n",
    "\n",
    "3. Find a relationship (if there is any) between number of bars in the area and severity of the crash.\n",
    "\n",
    "HINTs: \n",
    "- check out python package \"foursquare\" (no need to send HTTP requests directly with library `requests`)\n",
    "- **categoryId** for bars and nightlife needs to be found in the [foursquare API documentation](https://developer.foursquare.com/docs/api-reference/venues/search/)"
   ]
  },
  {
   "cell_type": "code",
   "execution_count": 16,
   "metadata": {},
   "outputs": [],
   "source": [
    "#set the keys\n",
    "foursquare_id = os.environ[\"<>\"]\n",
    "foursquare_secret = os.environ[\"<>\"]"
   ]
  },
  {
   "cell_type": "code",
   "execution_count": null,
   "metadata": {},
   "outputs": [],
   "source": []
  },
  {
   "cell_type": "code",
   "execution_count": null,
   "metadata": {},
   "outputs": [],
   "source": []
  },
  {
   "cell_type": "markdown",
   "metadata": {},
   "source": [
    "# Visual Crossing API\n",
    "\n",
    "Virtual Crossing API documentation is [here](https://www.visualcrossing.com/resources/documentation/)\n",
    "\n",
    "1. Sign up for FREE api key if you haven't done that before.\n",
    "2. For each crush, get the weather for the location and date.\n",
    "3. Find a relationship between the weather and severity of the crash.\n",
    "\n",
    "Hints:\n",
    "\n",
    "* randomly sample only 250 or so (due to API limits), or pull weather only for smaller sample of crashes\n",
    "* for sending HTTP requests check out \"requests\" library [here](http://docs.python-requests.org/en/master/)\n"
   ]
  },
  {
   "cell_type": "code",
   "execution_count": 193,
   "metadata": {},
   "outputs": [],
   "source": [
    "import requests\n",
    "api_key = os.environ[\"\"]"
   ]
  },
  {
   "cell_type": "code",
   "execution_count": null,
   "metadata": {},
   "outputs": [],
   "source": []
  },
  {
   "cell_type": "code",
   "execution_count": null,
   "metadata": {},
   "outputs": [],
   "source": []
  },
  {
   "cell_type": "code",
   "execution_count": null,
   "metadata": {},
   "outputs": [],
   "source": []
  }
 ],
 "metadata": {
  "kernelspec": {
   "display_name": "Python 3",
   "language": "python",
   "name": "python3"
  },
  "language_info": {
   "codemirror_mode": {
    "name": "ipython",
    "version": 3
   },
   "file_extension": ".py",
   "mimetype": "text/x-python",
   "name": "python",
   "nbconvert_exporter": "python",
   "pygments_lexer": "ipython3",
   "version": "3.7.6"
  }
 },
 "nbformat": 4,
 "nbformat_minor": 4
}
